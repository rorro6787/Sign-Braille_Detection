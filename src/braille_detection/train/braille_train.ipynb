{
 "cells": [
  {
   "cell_type": "code",
   "execution_count": null,
   "metadata": {},
   "outputs": [],
   "source": [
    "!nvidia-smi"
   ]
  },
  {
   "cell_type": "code",
   "execution_count": null,
   "metadata": {},
   "outputs": [],
   "source": [
    "!pip install -r requirements.txt"
   ]
  },
  {
   "cell_type": "code",
   "execution_count": null,
   "metadata": {},
   "outputs": [],
   "source": [
    "import cv2\n",
    "import os\n",
    "import sys\n",
    "from ultralytics import YOLO\n",
    "import shutil\n",
    "import random\n",
    "from zipfile import ZipFile\n",
    "import gdown"
   ]
  },
  {
   "cell_type": "code",
   "execution_count": null,
   "metadata": {},
   "outputs": [],
   "source": [
    "cd = os.getcwd()"
   ]
  },
  {
   "cell_type": "code",
   "execution_count": null,
   "metadata": {},
   "outputs": [],
   "source": [
    "def train_model(yaml_file, epochs, project):\n",
    "    \"\"\"\n",
    "    Trains the YOLO model on the provided dataset and saves the training metrics.\n",
    "\n",
    "    Args:\n",
    "        yaml_file (str): Path to the YOLO configuration YAML file.\n",
    "        epochs (int): Number of training epochs.\n",
    "        project (str): Path to the project directory where the training results will be saved.\n",
    "    \"\"\"\n",
    "\n",
    "    model = YOLO(model=\"yolov8n.pt\", task=\"detect\")\n",
    "    model.to('cuda')\n",
    "    model.train(data = yaml_file,\n",
    "        \t  epochs = epochs,\n",
    "              project = project,\n",
    "        \t  batch = 8,\n",
    "              name = \"train\")          # batch = 8 is neccesary because GPU does not support higher\n",
    "\n",
    "    results2 = model.val(data = yaml_file,\n",
    "                        project = project,\n",
    "                        batch = 8,\n",
    "                        name = \"test\",\n",
    "                        split = \"test\")\n",
    "\n",
    "    # Crear la ruta completa para el archivo de texto\n",
    "    metrics_file_path2 = os.path.join(project, \"testing_metrics.txt\")\n",
    "\n",
    "    # Escribir las métricas en el archivo de texto\n",
    "    with open(metrics_file_path2, 'w') as f:\n",
    "        f.write(\"Another metrics:\\n\")\n",
    "        f.write(\" Average precision for all classes: {}\\n\".format(results2.box.all_ap))\n",
    "        f.write(\" Average precision: {}\\n\".format(results2.box.ap))\n",
    "        f.write(\" Average precision at IoU=0.50: {}\\n\".format(results2.box.ap50))\n",
    "        f.write(\" F1 score: {}\\n\".format(results2.box.f1))\n",
    "        f.write(\" Mean average precision: {}\\n\".format(results2.box.map))\n",
    "        f.write(\" Mean average precision at IoU=0.50: {}\\n\".format(results2.box.map50))\n",
    "        f.write(\" Mean average precision at IoU=0.75: {}\\n\".format(results2.box.map75))\n",
    "        f.write(\" Mean average precision for different IoU thresholds: {}\\n\".format(results2.box.maps))\n",
    "        f.write(\" Mean precision: {}\\n\".format(results2.box.mp))\n",
    "        f.write(\" Mean recall: {}\\n\".format(results2.box.mr))\n",
    "        f.write(\" Precision: {}\\n\".format(results2.box.p))\n",
    "        f.write(\" Precision values: {}\\n\".format(results2.box.prec_values))\n",
    "        f.write(\" Recall: {}\\n\".format(results2.box.r))"
   ]
  },
  {
   "cell_type": "code",
   "execution_count": null,
   "metadata": {},
   "outputs": [],
   "source": [
    "import gdown\n",
    "url = 'https://drive.google.com/uc?export=download&id=1zrs5J8MXCt39mTKeYxcop0pTYIml_7Fb'\n",
    "gdown.download(url,\"braille.zip\",quiet=False)"
   ]
  },
  {
   "cell_type": "code",
   "execution_count": null,
   "metadata": {},
   "outputs": [],
   "source": [
    "import zipfile\n",
    "import os\n",
    "\n",
    "ruta_zip = cd + '/braille.zip'\n",
    "ruta_destino = cd + str('/braille_dataset')\n",
    "os.makedirs(ruta_destino, exist_ok=True)\n",
    "\n",
    "with zipfile.ZipFile(ruta_zip, 'r') as zip_ref:\n",
    "    zip_ref.extractall(ruta_destino)\n",
    "\n",
    "print(\"Descompresión completa.\")"
   ]
  },
  {
   "cell_type": "code",
   "execution_count": null,
   "metadata": {},
   "outputs": [],
   "source": [
    "train_model(cd + \"/braille_dataset/data.yaml\",32,\"Sign_Language_Detection_Model\")"
   ]
  },
  {
   "cell_type": "code",
   "execution_count": null,
   "metadata": {},
   "outputs": [],
   "source": [
    "import locale\n",
    "locale.getpreferredencoding = lambda: \"UTF-8\""
   ]
  },
  {
   "cell_type": "code",
   "execution_count": null,
   "metadata": {},
   "outputs": [],
   "source": [
    "import shutil\n",
    "\n",
    "folder_path = cd + '/Braille_Detection_Model' \n",
    "zip_path = cd + '/Braille_Detection_Model.zip'\n",
    "shutil.make_archive(cd + '/Braille_Detection_Model', 'zip', folder_path)"
   ]
  }
 ],
 "metadata": {
  "language_info": {
   "name": "python"
  }
 },
 "nbformat": 4,
 "nbformat_minor": 2
}
